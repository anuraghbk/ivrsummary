{
  "nbformat": 4,
  "nbformat_minor": 0,
  "metadata": {
    "colab": {
      "provenance": []
    },
    "kernelspec": {
      "name": "python3",
      "display_name": "Python 3"
    },
    "language_info": {
      "name": "python"
    }
  },
  "cells": [
    {
      "cell_type": "code",
      "execution_count": 34,
      "metadata": {
        "colab": {
          "base_uri": "https://localhost:8080/"
        },
        "id": "V95fhhT3bBV6",
        "outputId": "fbc53f98-e08c-40d5-a7ed-477f124c68c8"
      },
      "outputs": [
        {
          "output_type": "stream",
          "name": "stdout",
          "text": [
            "Successfully installed aiofiles-23.2.1 fastapi-0.115.4 ffmpy-0.4.0 gradio-5.5.0 gradio-client-1.4.2 huggingface-hub-0.26.2 markupsafe-2.1.5 pydub-0.25.1 python-multipart-0.0.12 ruff-0.7.3 safehttpx-0.1.1 semantic-version-2.10.0 starlette-0.41.2 tomlkit-0.12.0 uvicorn-0.32.0 websockets-12.0\n"
          ]
        }
      ],
      "source": [
        "!pip install gradio"
      ]
    },
    {
      "cell_type": "code",
      "source": [
        "from pyngrok import ngrok"
      ],
      "metadata": {
        "id": "Jg3FJfx-b1vj"
      },
      "execution_count": 2,
      "outputs": []
    },
    {
      "cell_type": "code",
      "source": [
        "ngrok.set_auth_token(\"1quxRyFJpZDJAgbvjs854Ew0085_9i7T1j8gueLn1JE5mr8Q\")"
      ],
      "metadata": {
        "id": "9j0Fcjitc0tf"
      },
      "execution_count": 3,
      "outputs": []
    },
    {
      "cell_type": "code",
      "source": [
        "ngrok.kill()"
      ],
      "metadata": {
        "id": "1zdbXJRCfzX9"
      },
      "execution_count": 4,
      "outputs": []
    },
    {
      "cell_type": "code",
      "source": [
        "import gradio as gr\n",
        "from pyngrok import ngrok\n",
        "import time\n",
        "\n",
        "ngrok.kill()\n",
        "\n",
        "# Hardcoded list of customer actions and corresponding icons\n",
        "customer_actions = [\n",
        "    {\"action\": \"Customer dialed the support number.\", \"icon\": \"📞\"},\n",
        "    {\"action\": \"Navigated through IVR options.\", \"icon\": \"🛠️\"},\n",
        "    {\"action\": \"Selected option for 'Credit Card Issue'.\", \"icon\": \"💳\"},\n",
        "    {\"action\": \"Provided account number for verification.\", \"icon\": \"🔢\"},\n",
        "    {\"action\": \"Pressed '0' to speak with an agent.\", \"icon\": \"👤\"}\n",
        "]\n",
        "\n",
        "# Hardcoded GenAI summary\n",
        "summary_text = (\n",
        "    \"Customer is calling about an issue with their credit card. \"\n",
        "    \"They have navigated through the IVR system and provided their account number. \"\n",
        "    \"Customer is awaiting assistance from an agent.\"\n",
        ")\n",
        "\n",
        "# Hardcoded potential remediation text\n",
        "remediation_text = (\n",
        "    \"It is recommended to provide the customer with a step-by-step troubleshooting guide for their credit card issue. \"\n",
        "    \"Offer to escalate the issue to a senior agent if required.\"\n",
        ")\n",
        "\n",
        "# Function to simulate displaying actions and summarizing them\n",
        "def start_demo():\n",
        "    actions_displayed = \"\"\n",
        "    for action in customer_actions:\n",
        "        # Display each action with an icon\n",
        "        actions_displayed += f'<div style=\"padding: 10px; border: 2px solid #4CAF50; margin: 5px; background-color: #f0f8ff; border-radius: 10px;\">' \\\n",
        "                             f'<span style=\"font-size: 20px;\">{action[\"icon\"]}</span> {action[\"action\"]}</div>'\n",
        "        # Delay for 3 seconds for each action\n",
        "        time.sleep(3)  # 3-second delay between actions\n",
        "        yield actions_displayed, \"\", \"\"  # Yield actions, and no summary or remediation yet\n",
        "\n",
        "    # After all actions, show the summary and remediation\n",
        "    yield actions_displayed, summary_text, remediation_text\n",
        "\n",
        "# Create a Gradio interface with title and button\n",
        "with gr.Blocks() as demo:\n",
        "    gr.Markdown(\"<h1 style='text-align:center;'>GenAI Customer Interaction Demo</h1>\")  # Title at the top\n",
        "    start_button = gr.Button(\"Start Demo\", elem_id=\"start-demo-btn\")  # Start Demo button\n",
        "\n",
        "    # Create a row layout for splitting actions and summary\n",
        "    with gr.Row():\n",
        "        # Left side for actions\n",
        "        with gr.Column():\n",
        "            gr.Markdown(\"<h2>Customer Actions</h2>\")\n",
        "            actions_output = gr.HTML()  # Output for customer actions\n",
        "\n",
        "        # Right side for summary and remediation\n",
        "        with gr.Column():\n",
        "            gr.Markdown(\"<h2>Customer IVR Experience Summary</h2>\")\n",
        "            summary_output = gr.Textbox(interactive=False, label='')  # Output for GenAI summary (read-only)\n",
        "            gr.Markdown(\"<h2>Potential Remediation</h2>\")\n",
        "            remediation_output = gr.Textbox(interactive=False, label='')  # Output for remediation (read-only)\n",
        "\n",
        "    # Link the button to the function\n",
        "    start_button.click(start_demo, outputs=[actions_output, summary_output, remediation_output])  # When button is clicked, trigger demo\n",
        "\n",
        "# Launch the Gradio app\n",
        "port = 7863\n",
        "demo.launch(server_name=\"0.0.0.0\", server_port=port, share=False)\n",
        "\n",
        "# Expose the Gradio app using ngrok\n",
        "public_url = ngrok.connect(port)\n",
        "\n",
        "# Output the public URL where the app can be accessed\n",
        "print(f\"Gradio app is running at {public_url}\")\n"
      ],
      "metadata": {
        "colab": {
          "base_uri": "https://localhost:8080/",
          "height": 633
        },
        "id": "po3l6SP1gDED",
        "outputId": "105ec533-3a48-4daa-8a6f-18733feb4947"
      },
      "execution_count": 10,
      "outputs": [
        {
          "output_type": "stream",
          "name": "stdout",
          "text": [
            "Colab notebook detected. To show errors in colab notebook, set debug=True in launch()\n",
            "Note: opening Chrome Inspector may crash demo inside Colab notebooks.\n",
            "\n",
            "To create a public link, set `share=True` in `launch()`.\n"
          ]
        },
        {
          "output_type": "display_data",
          "data": {
            "text/plain": [
              "<IPython.core.display.Javascript object>"
            ],
            "application/javascript": [
              "(async (port, path, width, height, cache, element) => {\n",
              "                        if (!google.colab.kernel.accessAllowed && !cache) {\n",
              "                            return;\n",
              "                        }\n",
              "                        element.appendChild(document.createTextNode(''));\n",
              "                        const url = await google.colab.kernel.proxyPort(port, {cache});\n",
              "\n",
              "                        const external_link = document.createElement('div');\n",
              "                        external_link.innerHTML = `\n",
              "                            <div style=\"font-family: monospace; margin-bottom: 0.5rem\">\n",
              "                                Running on <a href=${new URL(path, url).toString()} target=\"_blank\">\n",
              "                                    https://localhost:${port}${path}\n",
              "                                </a>\n",
              "                            </div>\n",
              "                        `;\n",
              "                        element.appendChild(external_link);\n",
              "\n",
              "                        const iframe = document.createElement('iframe');\n",
              "                        iframe.src = new URL(path, url).toString();\n",
              "                        iframe.height = height;\n",
              "                        iframe.allow = \"autoplay; camera; microphone; clipboard-read; clipboard-write;\"\n",
              "                        iframe.width = width;\n",
              "                        iframe.style.border = 0;\n",
              "                        element.appendChild(iframe);\n",
              "                    })(7863, \"/\", \"100%\", 500, false, window.element)"
            ]
          },
          "metadata": {}
        },
        {
          "output_type": "stream",
          "name": "stdout",
          "text": [
            "Gradio app is running at NgrokTunnel: \"https://429e-34-106-39-51.ngrok-free.app\" -> \"http://localhost:7863\"\n"
          ]
        }
      ]
    }
  ]
}